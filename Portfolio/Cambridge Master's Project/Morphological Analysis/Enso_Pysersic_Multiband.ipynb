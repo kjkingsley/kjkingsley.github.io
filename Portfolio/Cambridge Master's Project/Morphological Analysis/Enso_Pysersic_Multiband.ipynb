{
 "cells": [
  {
   "cell_type": "code",
   "execution_count": 2,
   "metadata": {},
   "outputs": [
    {
     "name": "stderr",
     "output_type": "stream",
     "text": [
      "d:\\Programs\\anaconda3\\envs\\pysersic\\Lib\\site-packages\\tqdm\\auto.py:21: TqdmWarning: IProgress not found. Please update jupyter and ipywidgets. See https://ipywidgets.readthedocs.io/en/stable/user_install.html\n",
      "  from .autonotebook import tqdm as notebook_tqdm\n"
     ]
    }
   ],
   "source": [
    "# load modules\n",
    "\n",
    "import os\n",
    "import numpy as np \n",
    "from astropy.io import fits\n",
    "from astropy.table import Table\n",
    "import matplotlib.pyplot as plt\n",
    "\n",
    "from pysersic.results import plot_image\n",
    "from pysersic import check_input_data\n",
    "from pysersic.priors import SourceProperties\n",
    "from pysersic.priors import autoprior\n",
    "from pysersic import FitSingle\n",
    "from pysersic.loss import student_t_loss_free_sys\n",
    "from pysersic.results import plot_residual\n",
    "from pysersic.rendering import HybridRenderer\n",
    "from pysersic.multiband import FitMultiBandPoly\n",
    "\n",
    "import jax\n",
    "import jax.numpy as jnp\n",
    "from jax.random import (\n",
    "    PRNGKey,  # Need to use a seed to start jax's random number generation\n",
    ")\n",
    "\n",
    "#import sep\n",
    "\n",
    "from pysersic.loss import student_t_loss\n",
    "\n",
    "import corner \n",
    "\n",
    "import asdf\n",
    "\n",
    "import arviz as az\n",
    "\n",
    "from sedpy import observate \n",
    "\n",
    "from astropy.modeling.models import Sersic1D\n",
    "from astropy.visualization import make_lupton_rgb\n",
    "from astropy.cosmology import Planck18 as cosmo\n",
    "\n"
   ]
  },
  {
   "cell_type": "code",
   "execution_count": 3,
   "metadata": {},
   "outputs": [],
   "source": [
    "# define path\n",
    "path_wdir = r\"D:\\Programming\\Cambridge\\Enso Data\"\n",
    "path_fig = os.path.join(path_wdir, '191250_')\n",
    "\n",
    "# define filter list\n",
    "filter_list = [\"f090w\", \"f115w\", \"f150w\", \"f182m\", \"f200w\", \"f210m\", \"f277w\", \"f356w\", \"f410m\", \"f444w\"]\n",
    "filterlist = observate.load_filters([\"jwst_\" + f for f in filter_list])\n",
    "\n",
    "\n",
    "# integrated photometry\n",
    "# mag_integrated = np.array([25.567, 24.299, 22.826, 22.154, 21.827, 21.616, 21.546])  # ??\n",
    "\n",
    "# define redshift\n",
    "redshift = 5.3\n",
    "pix_scale = 0.03  # from .fits header\n",
    "kpc_per_arcsec = cosmo.kpc_proper_per_arcmin(redshift).value/60\n",
    "# print rest-wavelength\n",
    "# print(np.array([filterlist[1:][ii].wave_effective/1e4 for ii in range(len(band_list))])/(1+redshift))    #name 'band_list' is not defined\n",
    "\n"
   ]
  },
  {
   "cell_type": "code",
   "execution_count": 4,
   "metadata": {},
   "outputs": [
    {
     "data": {
      "text/plain": [
       "np.float64(8982.436421837761)"
      ]
     },
     "execution_count": 4,
     "metadata": {},
     "output_type": "execute_result"
    }
   ],
   "source": [
    "# check wlengths and create custom band list as alternative to full filter list\n",
    "filterlist[0].wave_effective"
   ]
  },
  {
   "cell_type": "code",
   "execution_count": 5,
   "metadata": {},
   "outputs": [
    {
     "data": {
      "text/plain": [
       "array([0.89824364, 1.14859202, 1.49442228, 1.84236203, 1.97811383,\n",
       "       2.09374694, 2.76120868, 3.54834844, 4.07932817, 4.37878307])"
      ]
     },
     "execution_count": 5,
     "metadata": {},
     "output_type": "execute_result"
    }
   ],
   "source": [
    "band_list = filter_list[:]\n",
    "wv_list = np.array([filterlist[:][ii].wave_effective/1e4 for ii in range(len(band_list))])\n",
    "wv_list"
   ]
  },
  {
   "cell_type": "code",
   "execution_count": 6,
   "metadata": {},
   "outputs": [
    {
     "data": {
      "text/plain": [
       "array([0.14257836, 0.18231619, 0.23720989, 0.29243842, 0.31398632,\n",
       "       0.33234078, 0.43828709, 0.56322991, 0.64751241, 0.69504493])"
      ]
     },
     "execution_count": 6,
     "metadata": {},
     "output_type": "execute_result"
    }
   ],
   "source": [
    "wv_list/(1+redshift)"
   ]
  },
  {
   "cell_type": "code",
   "execution_count": 7,
   "metadata": {},
   "outputs": [],
   "source": [
    "def load_data(filter, plot=False):\n",
    "\n",
    "    '''\n",
    "    Loading the data\n",
    "    \n",
    "    The 4 needed inputs to perform a fit are\n",
    "     - im: the image itself\n",
    "     - mask: a mask indicating pixels which should not be included in the fit\n",
    "     - sig: a map of pixel uncertainties \n",
    "     - psf: a map of the PSF (for now, only one psf can be used).\n",
    "    '''\n",
    "\n",
    "    # load image data\n",
    "    fname = os.path.join(path_wdir, '191250_cutouts', '191250_' + filter.upper() + '.fits')\n",
    "    im = fits.getdata(fname, 'SCI')\n",
    "    wht = fits.getdata(fname, 'WHT')\n",
    "    ycen, xcen = 100, 100\n",
    "    im = im[xcen-22:xcen+28, ycen-25:ycen+25]\n",
    "    wht = wht[xcen-22:xcen+28, ycen-25:ycen+25]\n",
    "    mask = np.zeros(im.shape)\n",
    "    sig = 0.01/np.sqrt(np.abs(wht)) + 0.1*np.sqrt(np.abs(im))\n",
    "    sig = 0.1*np.sqrt(np.abs(im))\n",
    "    header = fits.getheader(fname, 'SCI')\n",
    "    \n",
    "    # load the PSF data\n",
    "    PSF_large = fits.getdata(os.path.join(path_wdir, 'mpsf_gds', 'mpsf_' + filter.lower() + '.fits'))\n",
    "    cen = int(0.5*PSF_large.shape[0])\n",
    "    psf = PSF_large[cen-18:cen+19, cen-18:cen+19]\n",
    "    psf /= np.sum(psf)\n",
    "    psf = psf.astype(float)\n",
    "\n",
    "    if plot:\n",
    "        # plot data\n",
    "        fig, ax = plot_image(im, mask, sig, psf)\n",
    "        plt.show()\n",
    "\n",
    "    # check data\n",
    "    if check_input_data(data=im, rms=sig, psf=psf, mask=mask):\n",
    "        print(\"data looks good!\")\n",
    "    else:\n",
    "        print(\"data looks bad!\")\n",
    "\n",
    "    return(im, mask, sig, psf)\n",
    "\n",
    "\n"
   ]
  },
  {
   "cell_type": "code",
   "execution_count": 14,
   "metadata": {},
   "outputs": [
    {
     "name": "stdout",
     "output_type": "stream",
     "text": [
      "data looks good!\n"
     ]
    },
    {
     "data": {
      "text/plain": [
       "Prior for a sersic_exp source:\n",
       "------------------------------\n",
       "flux ---  Normal w/ mu = 13.03, sigma = 7.22\n",
       "xc ---  Normal w/ mu = 24.56, sigma = 1.00\n",
       "yc ---  Normal w/ mu = 21.42, sigma = 1.00\n",
       "f_1 ---  Uniform between: 0.00 -> 1.00\n",
       "theta ---  Uniform between: 0.00 -> 6.28\n",
       "r_eff_1 ---  Truncated Normal w/ mu = 4.63, sigma = 2.15, between: 0.50 -> inf\n",
       "r_eff_2 ---  Truncated Normal w/ mu = 10.41, sigma = 3.23, between: 0.50 -> inf\n",
       "ellip_1 ---  Uniform between: 0.00 -> 0.90\n",
       "ellip_2 ---  Uniform between: 0.00 -> 0.90\n",
       "n ---  Truncated Normal w/ mu = 4.00, sigma = 1.00, between: 0.65 -> 8.00\n",
       "sky type - None"
      ]
     },
     "execution_count": 14,
     "metadata": {},
     "output_type": "execute_result"
    }
   ],
   "source": [
    "# test on single filter\n",
    "im, mask, sig, psf = load_data(filter='f090w')\n",
    "from pysersic.results import plot_image\n",
    "from pysersic.priors import autoprior\n",
    "\n",
    "prior = autoprior(image=im, profile_type=\"sersic_exp\", mask=mask, sky_type=\"none\")\n",
    "prior\n",
    "# fig, ax = plot_image(im, mask, sig, psf)"
   ]
  },
  {
   "cell_type": "markdown",
   "metadata": {},
   "source": [
    "\"FitMultiBandPoly\"  uses a polynomial to “link” the parameters across wavelength.  \n",
    "Next we must decide which parameters we want to be ‘linked’. For these parameters pysersic will parameterize them with a polynomial as a function of wavelength."
   ]
  },
  {
   "cell_type": "markdown",
   "metadata": {},
   "source": [
    "## Multi-band, single & double component"
   ]
  },
  {
   "cell_type": "code",
   "execution_count": 15,
   "metadata": {},
   "outputs": [
    {
     "name": "stdout",
     "output_type": "stream",
     "text": [
      "data looks good!\n",
      "Prior for a sersic_exp source:\n",
      "------------------------------\n",
      "flux ---  Normal w/ mu = 13.03, sigma = 7.22\n",
      "xc ---  Normal w/ mu = 24.56, sigma = 1.00\n",
      "yc ---  Normal w/ mu = 21.42, sigma = 1.00\n",
      "f_1 ---  Uniform between: 0.00 -> 1.00\n",
      "theta ---  Uniform between: 0.00 -> 6.28\n",
      "r_eff_1 ---  Truncated Normal w/ mu = 4.63, sigma = 2.15, between: 0.50 -> inf\n",
      "r_eff_2 ---  Truncated Normal w/ mu = 10.41, sigma = 3.23, between: 0.50 -> inf\n",
      "ellip_1 ---  Uniform between: 0.00 -> 0.90\n",
      "ellip_2 ---  Uniform between: 0.00 -> 0.90\n",
      "n ---  Truncated Normal w/ mu = 4.00, sigma = 1.00, between: 0.65 -> 8.00\n",
      "sky type - None\n",
      "\n",
      "data looks good!\n",
      "Prior for a sersic_exp source:\n",
      "------------------------------\n",
      "flux ---  Normal w/ mu = 25.92, sigma = 10.18\n",
      "xc ---  Normal w/ mu = 24.29, sigma = 1.00\n",
      "yc ---  Normal w/ mu = 21.71, sigma = 1.00\n",
      "f_1 ---  Uniform between: 0.00 -> 1.00\n",
      "theta ---  Uniform between: 0.00 -> 6.28\n",
      "r_eff_1 ---  Truncated Normal w/ mu = 5.70, sigma = 2.39, between: 0.50 -> inf\n",
      "r_eff_2 ---  Truncated Normal w/ mu = 12.82, sigma = 3.58, between: 0.50 -> inf\n",
      "ellip_1 ---  Uniform between: 0.00 -> 0.90\n",
      "ellip_2 ---  Uniform between: 0.00 -> 0.90\n",
      "n ---  Truncated Normal w/ mu = 4.00, sigma = 1.00, between: 0.65 -> 8.00\n",
      "sky type - None\n",
      "\n",
      "data looks good!\n",
      "Prior for a sersic_exp source:\n",
      "------------------------------\n",
      "flux ---  Normal w/ mu = 28.43, sigma = 10.66\n",
      "xc ---  Normal w/ mu = 24.30, sigma = 1.00\n",
      "yc ---  Normal w/ mu = 21.59, sigma = 1.00\n",
      "f_1 ---  Uniform between: 0.00 -> 1.00\n",
      "theta ---  Uniform between: 0.00 -> 6.28\n",
      "r_eff_1 ---  Truncated Normal w/ mu = 5.40, sigma = 2.32, between: 0.50 -> inf\n",
      "r_eff_2 ---  Truncated Normal w/ mu = 12.16, sigma = 3.49, between: 0.50 -> inf\n",
      "ellip_1 ---  Uniform between: 0.00 -> 0.90\n",
      "ellip_2 ---  Uniform between: 0.00 -> 0.90\n",
      "n ---  Truncated Normal w/ mu = 4.00, sigma = 1.00, between: 0.65 -> 8.00\n",
      "sky type - None\n",
      "\n",
      "data looks good!\n",
      "Prior for a sersic_exp source:\n",
      "------------------------------\n",
      "flux ---  Normal w/ mu = 32.02, sigma = 11.32\n",
      "xc ---  Normal w/ mu = 24.35, sigma = 1.00\n",
      "yc ---  Normal w/ mu = 21.44, sigma = 1.00\n",
      "f_1 ---  Uniform between: 0.00 -> 1.00\n",
      "theta ---  Uniform between: 0.00 -> 6.28\n",
      "r_eff_1 ---  Truncated Normal w/ mu = 5.35, sigma = 2.31, between: 0.50 -> inf\n",
      "r_eff_2 ---  Truncated Normal w/ mu = 12.05, sigma = 3.47, between: 0.50 -> inf\n",
      "ellip_1 ---  Uniform between: 0.00 -> 0.90\n",
      "ellip_2 ---  Uniform between: 0.00 -> 0.90\n",
      "n ---  Truncated Normal w/ mu = 4.00, sigma = 1.00, between: 0.65 -> 8.00\n",
      "sky type - None\n",
      "\n",
      "data looks good!\n",
      "Prior for a sersic_exp source:\n",
      "------------------------------\n",
      "flux ---  Normal w/ mu = 36.67, sigma = 12.11\n",
      "xc ---  Normal w/ mu = 24.07, sigma = 1.00\n",
      "yc ---  Normal w/ mu = 21.41, sigma = 1.00\n",
      "f_1 ---  Uniform between: 0.00 -> 1.00\n",
      "theta ---  Uniform between: 0.00 -> 6.28\n",
      "r_eff_1 ---  Truncated Normal w/ mu = 5.51, sigma = 2.35, between: 0.50 -> inf\n",
      "r_eff_2 ---  Truncated Normal w/ mu = 12.40, sigma = 3.52, between: 0.50 -> inf\n",
      "ellip_1 ---  Uniform between: 0.00 -> 0.90\n",
      "ellip_2 ---  Uniform between: 0.00 -> 0.90\n",
      "n ---  Truncated Normal w/ mu = 4.00, sigma = 1.00, between: 0.65 -> 8.00\n",
      "sky type - None\n",
      "\n",
      "data looks good!\n",
      "Prior for a sersic_exp source:\n",
      "------------------------------\n",
      "flux ---  Normal w/ mu = 38.68, sigma = 12.44\n",
      "xc ---  Normal w/ mu = 24.23, sigma = 1.00\n",
      "yc ---  Normal w/ mu = 21.34, sigma = 1.00\n",
      "f_1 ---  Uniform between: 0.00 -> 1.00\n",
      "theta ---  Uniform between: 0.00 -> 6.28\n",
      "r_eff_1 ---  Truncated Normal w/ mu = 5.55, sigma = 2.35, between: 0.50 -> inf\n",
      "r_eff_2 ---  Truncated Normal w/ mu = 12.48, sigma = 3.53, between: 0.50 -> inf\n",
      "ellip_1 ---  Uniform between: 0.00 -> 0.90\n",
      "ellip_2 ---  Uniform between: 0.00 -> 0.90\n",
      "n ---  Truncated Normal w/ mu = 4.00, sigma = 1.00, between: 0.65 -> 8.00\n",
      "sky type - None\n",
      "\n",
      "data looks good!\n",
      "Prior for a sersic_exp source:\n",
      "------------------------------\n",
      "flux ---  Normal w/ mu = 65.36, sigma = 16.17\n",
      "xc ---  Normal w/ mu = 23.86, sigma = 1.00\n",
      "yc ---  Normal w/ mu = 21.22, sigma = 1.00\n",
      "f_1 ---  Uniform between: 0.00 -> 1.00\n",
      "theta ---  Uniform between: 0.00 -> 6.28\n",
      "r_eff_1 ---  Truncated Normal w/ mu = 6.15, sigma = 2.48, between: 0.50 -> inf\n",
      "r_eff_2 ---  Truncated Normal w/ mu = 13.83, sigma = 3.72, between: 0.50 -> inf\n",
      "ellip_1 ---  Uniform between: 0.00 -> 0.90\n",
      "ellip_2 ---  Uniform between: 0.00 -> 0.90\n",
      "n ---  Truncated Normal w/ mu = 4.00, sigma = 1.00, between: 0.65 -> 8.00\n",
      "sky type - None\n",
      "\n",
      "data looks good!\n",
      "Prior for a sersic_exp source:\n",
      "------------------------------\n",
      "flux ---  Normal w/ mu = 75.42, sigma = 17.37\n",
      "xc ---  Normal w/ mu = 23.91, sigma = 1.00\n",
      "yc ---  Normal w/ mu = 21.17, sigma = 1.00\n",
      "f_1 ---  Uniform between: 0.00 -> 1.00\n",
      "theta ---  Uniform between: 0.00 -> 6.28\n",
      "r_eff_1 ---  Truncated Normal w/ mu = 6.56, sigma = 2.56, between: 0.50 -> inf\n",
      "r_eff_2 ---  Truncated Normal w/ mu = 14.75, sigma = 3.84, between: 0.50 -> inf\n",
      "ellip_1 ---  Uniform between: 0.00 -> 0.90\n",
      "ellip_2 ---  Uniform between: 0.00 -> 0.90\n",
      "n ---  Truncated Normal w/ mu = 4.00, sigma = 1.00, between: 0.65 -> 8.00\n",
      "sky type - None\n",
      "\n",
      "data looks good!\n",
      "Prior for a sersic_exp source:\n",
      "------------------------------\n",
      "flux ---  Normal w/ mu = 112.82, sigma = 21.24\n",
      "xc ---  Normal w/ mu = 24.11, sigma = 1.00\n",
      "yc ---  Normal w/ mu = 21.12, sigma = 1.00\n",
      "f_1 ---  Uniform between: 0.00 -> 1.00\n",
      "theta ---  Uniform between: 0.00 -> 6.28\n",
      "r_eff_1 ---  Truncated Normal w/ mu = 6.76, sigma = 2.60, between: 0.50 -> inf\n",
      "r_eff_2 ---  Truncated Normal w/ mu = 15.21, sigma = 3.90, between: 0.50 -> inf\n",
      "ellip_1 ---  Uniform between: 0.00 -> 0.90\n",
      "ellip_2 ---  Uniform between: 0.00 -> 0.90\n",
      "n ---  Truncated Normal w/ mu = 4.00, sigma = 1.00, between: 0.65 -> 8.00\n",
      "sky type - None\n",
      "\n",
      "data looks good!\n",
      "Prior for a sersic_exp source:\n",
      "------------------------------\n",
      "flux ---  Normal w/ mu = 101.90, sigma = 20.19\n",
      "xc ---  Normal w/ mu = 24.09, sigma = 1.00\n",
      "yc ---  Normal w/ mu = 20.79, sigma = 1.00\n",
      "f_1 ---  Uniform between: 0.00 -> 1.00\n",
      "theta ---  Uniform between: 0.00 -> 6.28\n",
      "r_eff_1 ---  Truncated Normal w/ mu = 6.85, sigma = 2.62, between: 0.50 -> inf\n",
      "r_eff_2 ---  Truncated Normal w/ mu = 15.40, sigma = 3.92, between: 0.50 -> inf\n",
      "ellip_1 ---  Uniform between: 0.00 -> 0.90\n",
      "ellip_2 ---  Uniform between: 0.00 -> 0.90\n",
      "n ---  Truncated Normal w/ mu = 4.00, sigma = 1.00, between: 0.65 -> 8.00\n",
      "sky type - None\n",
      "\n"
     ]
    }
   ],
   "source": [
    "\n",
    "psf_dict = {}\n",
    "img_dict = {}\n",
    "rms_dict = {}\n",
    "prior_dict = {}\n",
    "prior_2comp_dict = {}\n",
    "\n",
    "# iterate through filters/bands, compiling dicts of psf, img, rms, and 1-/2-comp priors\n",
    "# for each band\n",
    "for j,band in enumerate(band_list):\n",
    "    # load data\n",
    "    im, mask, sig, psf = load_data(filter=band)\n",
    "    psf_dict[band] = psf\n",
    "    img_dict[band] = im\n",
    "    rms_dict[band] = sig\n",
    "    # SourceProperties analyses the source image to determine properties\n",
    "    props = SourceProperties(im, mask=mask) # Optional mask\n",
    "    # generate prior 1 - single component\n",
    "    prior = props.generate_prior('sersic', # Other profiles inclues 'exp', 'dev' and 'pointsource'\n",
    "                          sky_type='none') # Can also use 'flat' or 'tilted-plane' to simultaneously fit a background    \n",
    "    # fix the sersic index prior between 0.5 and 4.5\n",
    "    # prior.set_uniform_prior('n', 0.5, 4.5)\n",
    "    prior_dict[band] = prior # store the prior for that band\n",
    "\n",
    "    # generate prior 2: - 2-component: fixed sersic bulge, exponential disk\n",
    "    prior = props.generate_prior('sersic_exp', # Other profiles inclues 'exp', 'dev' and 'pointsource'\n",
    "                          sky_type='none') # Can also use 'flat' or 'tilted-plane' to simultaneously fit a background    \n",
    "    # prior.set_uniform_prior('r_eff_1', 0.5, 5.0)\n",
    "    # prior.set_uniform_prior('r_eff_2', 10.0, 20.0)\n",
    "    # prior.set_uniform_prior('n', 0.5, 4.5)  # Sersic index of the central component\n",
    "    print(prior)\n",
    "\n",
    "    prior_2comp_dict[band] = prior # store the 2comp prior for that band\n"
   ]
  },
  {
   "cell_type": "code",
   "execution_count": 16,
   "metadata": {},
   "outputs": [
    {
     "name": "stderr",
     "output_type": "stream",
     "text": [
      "d:\\Programs\\anaconda3\\envs\\pysersic\\Lib\\site-packages\\pysersic\\pysersic.py:75: UserWarning: A JAX array is being set as static! This can result in unexpected behavior and is usually a mistake to do.\n",
      "  self.renderer = renderer(data.shape, self.psf, **renderer_kwargs)\n"
     ]
    },
    {
     "name": "stdout",
     "output_type": "stream",
     "text": [
      "Running fit - f090w\n"
     ]
    },
    {
     "name": "stderr",
     "output_type": "stream",
     "text": [
      " 10%|▉         | 1963/20000 [00:02<00:25, 714.22it/s, Round = 0,step_size = 5.0e-02 loss: -9.434e+03]\n",
      "  1%|▏         | 251/20000 [00:00<00:24, 792.82it/s, Round = 1,step_size = 5.0e-03 loss: -9.434e+03]\n",
      "  1%|▏         | 251/20000 [00:00<00:24, 797.78it/s, Round = 2,step_size = 5.0e-04 loss: -9.434e+03]\n",
      "d:\\Programs\\anaconda3\\envs\\pysersic\\Lib\\site-packages\\pysersic\\pysersic.py:75: UserWarning: A JAX array is being set as static! This can result in unexpected behavior and is usually a mistake to do.\n",
      "  self.renderer = renderer(data.shape, self.psf, **renderer_kwargs)\n"
     ]
    },
    {
     "name": "stdout",
     "output_type": "stream",
     "text": [
      "Running fit - f090w\n"
     ]
    },
    {
     "name": "stderr",
     "output_type": "stream",
     "text": [
      " 11%|█         | 2153/20000 [00:05<00:43, 411.32it/s, Round = 0,step_size = 5.0e-02 loss: -9.425e+03]\n",
      "  1%|▏         | 267/20000 [00:00<00:47, 416.44it/s, Round = 1,step_size = 5.0e-03 loss: -9.425e+03]\n",
      "  1%|▏         | 256/20000 [00:00<00:46, 420.70it/s, Round = 2,step_size = 5.0e-04 loss: -9.425e+03]\n",
      "d:\\Programs\\anaconda3\\envs\\pysersic\\Lib\\site-packages\\pysersic\\pysersic.py:75: UserWarning: A JAX array is being set as static! This can result in unexpected behavior and is usually a mistake to do.\n",
      "  self.renderer = renderer(data.shape, self.psf, **renderer_kwargs)\n"
     ]
    },
    {
     "name": "stdout",
     "output_type": "stream",
     "text": [
      "Running fit - f115w\n"
     ]
    },
    {
     "name": "stderr",
     "output_type": "stream",
     "text": [
      "  7%|▋         | 1409/20000 [00:01<00:24, 772.80it/s, Round = 0,step_size = 5.0e-02 loss: -9.031e+03]\n",
      "  1%|▏         | 251/20000 [00:00<00:25, 771.16it/s, Round = 1,step_size = 5.0e-03 loss: -9.031e+03]\n",
      "  1%|▏         | 251/20000 [00:00<00:27, 722.49it/s, Round = 2,step_size = 5.0e-04 loss: -9.031e+03]\n",
      "d:\\Programs\\anaconda3\\envs\\pysersic\\Lib\\site-packages\\pysersic\\pysersic.py:75: UserWarning: A JAX array is being set as static! This can result in unexpected behavior and is usually a mistake to do.\n",
      "  self.renderer = renderer(data.shape, self.psf, **renderer_kwargs)\n"
     ]
    },
    {
     "name": "stdout",
     "output_type": "stream",
     "text": [
      "Running fit - f115w\n"
     ]
    },
    {
     "name": "stderr",
     "output_type": "stream",
     "text": [
      "  9%|▉         | 1858/20000 [00:03<00:36, 495.36it/s, Round = 0,step_size = 5.0e-02 loss: -9.030e+03]\n",
      "  1%|▏         | 266/20000 [00:00<00:50, 387.24it/s, Round = 1,step_size = 5.0e-03 loss: -9.030e+03]\n",
      "  1%|▏         | 252/20000 [00:00<00:42, 461.27it/s, Round = 2,step_size = 5.0e-04 loss: -9.030e+03]\n",
      "d:\\Programs\\anaconda3\\envs\\pysersic\\Lib\\site-packages\\pysersic\\pysersic.py:75: UserWarning: A JAX array is being set as static! This can result in unexpected behavior and is usually a mistake to do.\n",
      "  self.renderer = renderer(data.shape, self.psf, **renderer_kwargs)\n"
     ]
    },
    {
     "name": "stdout",
     "output_type": "stream",
     "text": [
      "Running fit - f150w\n"
     ]
    },
    {
     "name": "stderr",
     "output_type": "stream",
     "text": [
      "  7%|▋         | 1335/20000 [00:01<00:24, 760.02it/s, Round = 0,step_size = 5.0e-02 loss: -9.026e+03]\n",
      "  1%|▏         | 260/20000 [00:00<00:25, 760.68it/s, Round = 1,step_size = 5.0e-03 loss: -9.026e+03]\n",
      "  1%|▏         | 254/20000 [00:00<00:25, 778.12it/s, Round = 2,step_size = 5.0e-04 loss: -9.026e+03]\n",
      "d:\\Programs\\anaconda3\\envs\\pysersic\\Lib\\site-packages\\pysersic\\pysersic.py:75: UserWarning: A JAX array is being set as static! This can result in unexpected behavior and is usually a mistake to do.\n",
      "  self.renderer = renderer(data.shape, self.psf, **renderer_kwargs)\n"
     ]
    },
    {
     "name": "stdout",
     "output_type": "stream",
     "text": [
      "Running fit - f150w\n"
     ]
    },
    {
     "name": "stderr",
     "output_type": "stream",
     "text": [
      "  4%|▍         | 889/20000 [00:02<00:50, 378.54it/s, Round = 0,step_size = 5.0e-02 loss: -9.028e+03]\n",
      "  3%|▎         | 512/20000 [00:02<01:36, 202.49it/s, Round = 1,step_size = 5.0e-03 loss: -9.028e+03]\n",
      "  1%|▏         | 263/20000 [00:00<01:06, 296.12it/s, Round = 2,step_size = 5.0e-04 loss: -9.028e+03]\n",
      "d:\\Programs\\anaconda3\\envs\\pysersic\\Lib\\site-packages\\pysersic\\pysersic.py:75: UserWarning: A JAX array is being set as static! This can result in unexpected behavior and is usually a mistake to do.\n",
      "  self.renderer = renderer(data.shape, self.psf, **renderer_kwargs)\n"
     ]
    },
    {
     "name": "stdout",
     "output_type": "stream",
     "text": [
      "Running fit - f182m\n"
     ]
    },
    {
     "name": "stderr",
     "output_type": "stream",
     "text": [
      " 14%|█▎        | 2719/20000 [00:03<00:21, 806.32it/s, Round = 0,step_size = 5.0e-02 loss: -8.568e+03]\n",
      "  1%|▏         | 253/20000 [00:00<00:23, 830.85it/s, Round = 1,step_size = 5.0e-03 loss: -8.568e+03]\n",
      "  1%|▏         | 257/20000 [00:00<00:23, 850.08it/s, Round = 2,step_size = 5.0e-04 loss: -8.568e+03]\n",
      "d:\\Programs\\anaconda3\\envs\\pysersic\\Lib\\site-packages\\pysersic\\pysersic.py:75: UserWarning: A JAX array is being set as static! This can result in unexpected behavior and is usually a mistake to do.\n",
      "  self.renderer = renderer(data.shape, self.psf, **renderer_kwargs)\n"
     ]
    },
    {
     "name": "stdout",
     "output_type": "stream",
     "text": [
      "Running fit - f182m\n"
     ]
    },
    {
     "name": "stderr",
     "output_type": "stream",
     "text": [
      "  9%|▊         | 1706/20000 [00:03<00:33, 540.80it/s, Round = 0,step_size = 5.0e-02 loss: -8.566e+03]\n",
      "  2%|▏         | 307/20000 [00:00<00:35, 550.84it/s, Round = 1,step_size = 5.0e-03 loss: -8.566e+03]\n",
      "  2%|▏         | 302/20000 [00:00<00:36, 537.05it/s, Round = 2,step_size = 5.0e-04 loss: -8.566e+03]\n",
      "d:\\Programs\\anaconda3\\envs\\pysersic\\Lib\\site-packages\\pysersic\\pysersic.py:75: UserWarning: A JAX array is being set as static! This can result in unexpected behavior and is usually a mistake to do.\n",
      "  self.renderer = renderer(data.shape, self.psf, **renderer_kwargs)\n"
     ]
    },
    {
     "name": "stdout",
     "output_type": "stream",
     "text": [
      "Running fit - f200w\n"
     ]
    },
    {
     "name": "stderr",
     "output_type": "stream",
     "text": [
      "  7%|▋         | 1343/20000 [00:01<00:22, 826.08it/s, Round = 0,step_size = 5.0e-02 loss: -8.895e+03]\n",
      "  1%|▏         | 252/20000 [00:00<00:30, 637.85it/s, Round = 1,step_size = 5.0e-03 loss: -8.895e+03]\n",
      "  1%|▏         | 251/20000 [00:00<00:31, 630.84it/s, Round = 2,step_size = 5.0e-04 loss: -8.895e+03]\n",
      "d:\\Programs\\anaconda3\\envs\\pysersic\\Lib\\site-packages\\pysersic\\pysersic.py:75: UserWarning: A JAX array is being set as static! This can result in unexpected behavior and is usually a mistake to do.\n",
      "  self.renderer = renderer(data.shape, self.psf, **renderer_kwargs)\n"
     ]
    },
    {
     "name": "stdout",
     "output_type": "stream",
     "text": [
      "Running fit - f200w\n"
     ]
    },
    {
     "name": "stderr",
     "output_type": "stream",
     "text": [
      "  5%|▌         | 1010/20000 [00:01<00:35, 539.04it/s, Round = 0,step_size = 5.0e-02 loss: -8.894e+03]\n",
      "  1%|▏         | 251/20000 [00:00<00:47, 417.15it/s, Round = 1,step_size = 5.0e-03 loss: -8.894e+03]\n",
      "  1%|▏         | 251/20000 [00:00<00:44, 446.01it/s, Round = 2,step_size = 5.0e-04 loss: -8.894e+03]\n",
      "d:\\Programs\\anaconda3\\envs\\pysersic\\Lib\\site-packages\\pysersic\\pysersic.py:75: UserWarning: A JAX array is being set as static! This can result in unexpected behavior and is usually a mistake to do.\n",
      "  self.renderer = renderer(data.shape, self.psf, **renderer_kwargs)\n"
     ]
    },
    {
     "name": "stdout",
     "output_type": "stream",
     "text": [
      "Running fit - f210m\n"
     ]
    },
    {
     "name": "stderr",
     "output_type": "stream",
     "text": [
      " 11%|█         | 2208/20000 [00:02<00:23, 760.24it/s, Round = 0,step_size = 5.0e-02 loss: -8.176e+03]\n",
      "  1%|▏         | 277/20000 [00:00<00:25, 760.41it/s, Round = 1,step_size = 5.0e-03 loss: -8.176e+03]\n",
      "  1%|▏         | 268/20000 [00:00<00:25, 765.11it/s, Round = 2,step_size = 5.0e-04 loss: -8.176e+03]\n",
      "d:\\Programs\\anaconda3\\envs\\pysersic\\Lib\\site-packages\\pysersic\\pysersic.py:75: UserWarning: A JAX array is being set as static! This can result in unexpected behavior and is usually a mistake to do.\n",
      "  self.renderer = renderer(data.shape, self.psf, **renderer_kwargs)\n"
     ]
    },
    {
     "name": "stdout",
     "output_type": "stream",
     "text": [
      "Running fit - f210m\n"
     ]
    },
    {
     "name": "stderr",
     "output_type": "stream",
     "text": [
      " 12%|█▏        | 2383/20000 [00:04<00:32, 535.43it/s, Round = 0,step_size = 5.0e-02 loss: -8.176e+03]\n",
      "  1%|▏         | 257/20000 [00:00<00:37, 521.64it/s, Round = 1,step_size = 5.0e-03 loss: -8.176e+03]\n",
      "  2%|▏         | 352/20000 [00:00<00:35, 554.39it/s, Round = 2,step_size = 5.0e-04 loss: -8.176e+03]\n",
      "d:\\Programs\\anaconda3\\envs\\pysersic\\Lib\\site-packages\\pysersic\\pysersic.py:75: UserWarning: A JAX array is being set as static! This can result in unexpected behavior and is usually a mistake to do.\n",
      "  self.renderer = renderer(data.shape, self.psf, **renderer_kwargs)\n"
     ]
    },
    {
     "name": "stdout",
     "output_type": "stream",
     "text": [
      "Running fit - f277w\n"
     ]
    },
    {
     "name": "stderr",
     "output_type": "stream",
     "text": [
      "  7%|▋         | 1327/20000 [00:01<00:26, 699.43it/s, Round = 0,step_size = 5.0e-02 loss: -8.145e+03]\n",
      "  2%|▏         | 360/20000 [00:00<00:39, 491.96it/s, Round = 1,step_size = 5.0e-03 loss: -8.145e+03]\n",
      "  1%|▏         | 282/20000 [00:00<00:40, 487.09it/s, Round = 2,step_size = 5.0e-04 loss: -8.145e+03]\n",
      "d:\\Programs\\anaconda3\\envs\\pysersic\\Lib\\site-packages\\pysersic\\pysersic.py:75: UserWarning: A JAX array is being set as static! This can result in unexpected behavior and is usually a mistake to do.\n",
      "  self.renderer = renderer(data.shape, self.psf, **renderer_kwargs)\n"
     ]
    },
    {
     "name": "stdout",
     "output_type": "stream",
     "text": [
      "Running fit - f277w\n"
     ]
    },
    {
     "name": "stderr",
     "output_type": "stream",
     "text": [
      "  8%|▊         | 1648/20000 [00:03<00:34, 534.70it/s, Round = 0,step_size = 5.0e-02 loss: -8.163e+03]\n",
      "  1%|▏         | 262/20000 [00:00<00:36, 539.06it/s, Round = 1,step_size = 5.0e-03 loss: -8.163e+03]\n",
      "  1%|▏         | 255/20000 [00:00<00:56, 350.08it/s, Round = 2,step_size = 5.0e-04 loss: -8.163e+03]\n",
      "d:\\Programs\\anaconda3\\envs\\pysersic\\Lib\\site-packages\\pysersic\\pysersic.py:75: UserWarning: A JAX array is being set as static! This can result in unexpected behavior and is usually a mistake to do.\n",
      "  self.renderer = renderer(data.shape, self.psf, **renderer_kwargs)\n"
     ]
    },
    {
     "name": "stdout",
     "output_type": "stream",
     "text": [
      "Running fit - f356w\n"
     ]
    },
    {
     "name": "stderr",
     "output_type": "stream",
     "text": [
      "  9%|▉         | 1874/20000 [00:03<00:36, 492.73it/s, Round = 0,step_size = 5.0e-02 loss: -7.895e+03]\n",
      "  1%|▏         | 257/20000 [00:00<00:30, 651.52it/s, Round = 1,step_size = 5.0e-03 loss: -7.895e+03]\n",
      "  1%|▏         | 251/20000 [00:00<00:33, 584.79it/s, Round = 2,step_size = 5.0e-04 loss: -7.895e+03]\n",
      "d:\\Programs\\anaconda3\\envs\\pysersic\\Lib\\site-packages\\pysersic\\pysersic.py:75: UserWarning: A JAX array is being set as static! This can result in unexpected behavior and is usually a mistake to do.\n",
      "  self.renderer = renderer(data.shape, self.psf, **renderer_kwargs)\n"
     ]
    },
    {
     "name": "stdout",
     "output_type": "stream",
     "text": [
      "Running fit - f356w\n"
     ]
    },
    {
     "name": "stderr",
     "output_type": "stream",
     "text": [
      " 10%|▉         | 1999/20000 [00:04<00:41, 436.96it/s, Round = 0,step_size = 5.0e-02 loss: -7.915e+03]\n",
      "  1%|▏         | 265/20000 [00:00<00:39, 505.09it/s, Round = 1,step_size = 5.0e-03 loss: -7.915e+03]\n",
      "  1%|▏         | 252/20000 [00:00<00:38, 511.71it/s, Round = 2,step_size = 5.0e-04 loss: -7.915e+03]\n",
      "d:\\Programs\\anaconda3\\envs\\pysersic\\Lib\\site-packages\\pysersic\\pysersic.py:75: UserWarning: A JAX array is being set as static! This can result in unexpected behavior and is usually a mistake to do.\n",
      "  self.renderer = renderer(data.shape, self.psf, **renderer_kwargs)\n"
     ]
    },
    {
     "name": "stdout",
     "output_type": "stream",
     "text": [
      "Running fit - f410m\n"
     ]
    },
    {
     "name": "stderr",
     "output_type": "stream",
     "text": [
      "  6%|▌         | 1115/20000 [00:01<00:26, 705.02it/s, Round = 0,step_size = 5.0e-02 loss: -7.276e+03]\n",
      "  1%|▏         | 252/20000 [00:00<00:28, 684.89it/s, Round = 1,step_size = 5.0e-03 loss: -7.276e+03]\n",
      "  1%|▏         | 251/20000 [00:00<00:28, 689.40it/s, Round = 2,step_size = 5.0e-04 loss: -7.276e+03]\n",
      "d:\\Programs\\anaconda3\\envs\\pysersic\\Lib\\site-packages\\pysersic\\pysersic.py:75: UserWarning: A JAX array is being set as static! This can result in unexpected behavior and is usually a mistake to do.\n",
      "  self.renderer = renderer(data.shape, self.psf, **renderer_kwargs)\n"
     ]
    },
    {
     "name": "stdout",
     "output_type": "stream",
     "text": [
      "Running fit - f410m\n"
     ]
    },
    {
     "name": "stderr",
     "output_type": "stream",
     "text": [
      "  6%|▋         | 1282/20000 [00:02<00:38, 488.51it/s, Round = 0,step_size = 5.0e-02 loss: -7.306e+03]\n",
      "  2%|▏         | 393/20000 [00:00<00:38, 503.52it/s, Round = 1,step_size = 5.0e-03 loss: -7.306e+03]\n",
      "  1%|▏         | 251/20000 [00:00<00:41, 479.22it/s, Round = 2,step_size = 5.0e-04 loss: -7.306e+03]\n",
      "d:\\Programs\\anaconda3\\envs\\pysersic\\Lib\\site-packages\\pysersic\\pysersic.py:75: UserWarning: A JAX array is being set as static! This can result in unexpected behavior and is usually a mistake to do.\n",
      "  self.renderer = renderer(data.shape, self.psf, **renderer_kwargs)\n"
     ]
    },
    {
     "name": "stdout",
     "output_type": "stream",
     "text": [
      "Running fit - f444w\n"
     ]
    },
    {
     "name": "stderr",
     "output_type": "stream",
     "text": [
      "  8%|▊         | 1657/20000 [00:02<00:28, 646.88it/s, Round = 0,step_size = 5.0e-02 loss: -7.393e+03]\n",
      "  1%|▏         | 254/20000 [00:00<00:28, 703.94it/s, Round = 1,step_size = 5.0e-03 loss: -7.393e+03]\n",
      "  2%|▏         | 407/20000 [00:00<00:27, 720.50it/s, Round = 2,step_size = 5.0e-04 loss: -7.393e+03]\n",
      "d:\\Programs\\anaconda3\\envs\\pysersic\\Lib\\site-packages\\pysersic\\pysersic.py:75: UserWarning: A JAX array is being set as static! This can result in unexpected behavior and is usually a mistake to do.\n",
      "  self.renderer = renderer(data.shape, self.psf, **renderer_kwargs)\n"
     ]
    },
    {
     "name": "stdout",
     "output_type": "stream",
     "text": [
      "Running fit - f444w\n"
     ]
    },
    {
     "name": "stderr",
     "output_type": "stream",
     "text": [
      "  6%|▋         | 1280/20000 [00:03<00:44, 424.58it/s, Round = 0,step_size = 5.0e-02 loss: -7.420e+03]\n",
      "  1%|▏         | 262/20000 [00:00<00:43, 458.51it/s, Round = 1,step_size = 5.0e-03 loss: -7.420e+03]\n",
      "  1%|▏         | 283/20000 [00:00<00:43, 454.20it/s, Round = 2,step_size = 5.0e-04 loss: -7.420e+03]\n"
     ]
    }
   ],
   "source": [
    "\n",
    "# loop through and run fit in each of the 3 bands\n",
    "fitter_dict = {}\n",
    "ind_res_dict = {}\n",
    "fitter2_dict = {}\n",
    "ind2_res_dict = {}\n",
    "rkey = jax.random.PRNGKey(19)\n",
    "for band in band_list:\n",
    "    rkey,_ = jax.random.split(rkey, 2) # use differeny random number key for each run\n",
    "    # save single source fitter to fitter_cur variable for this band\n",
    "    fitter_cur = FitSingle(\n",
    "        data=img_dict[band],\n",
    "        rms = rms_dict[band],\n",
    "        psf = psf_dict[band],\n",
    "        prior = prior_dict[band],\n",
    "        mask = mask.copy(),\n",
    "        loss_func = student_t_loss_free_sys\n",
    "    )\n",
    "    print (f'Running fit - {band}') \n",
    "    ind_res_cur = fitter_cur.estimate_posterior(rkey = rkey)  # run the fit\n",
    "    ind_res_dict[band] = ind_res_cur.retrieve_med_std()\n",
    "    fitter_dict[band] = fitter_cur # create a dictionary of fitters for each band\n",
    "    \n",
    "    # repeated with 2-component prior\n",
    "    fitter_cur = FitSingle(\n",
    "        data=img_dict[band],\n",
    "        rms = rms_dict[band],\n",
    "        psf = psf_dict[band],\n",
    "        prior = prior_2comp_dict[band],\n",
    "        mask = mask.copy(),\n",
    "        loss_func = student_t_loss_free_sys\n",
    "    )\n",
    "    print (f'Running fit - {band}')\n",
    "    ind_res_cur = fitter_cur.estimate_posterior(rkey = rkey)\n",
    "    ind2_res_dict[band] = ind_res_cur.retrieve_med_std()\n",
    "    fitter2_dict[band] = fitter_cur\n",
    "\n",
    "\n"
   ]
  },
  {
   "cell_type": "code",
   "execution_count": 17,
   "metadata": {},
   "outputs": [
    {
     "data": {
      "text/plain": [
       "<matplotlib.legend.Legend at 0x1a8a4e81820>"
      ]
     },
     "execution_count": 17,
     "metadata": {},
     "output_type": "execute_result"
    },
    {
     "data": {
      "image/png": "[encoded data removed]",
      "text/plain": [
       "<Figure size 1000x300 with 3 Axes>"
      ]
     },
     "metadata": {},
     "output_type": "display_data"
    }
   ],
   "source": [
    "# Plot single comp fits to check\n",
    "fig, axes = plt.subplots(1,3, figsize = (10,3))\n",
    "\n",
    "for j,param in enumerate(['n','ellip','r_eff']):\n",
    "    ax = axes[j]\n",
    "\n",
    "    med_ind = [ind_res_dict[b][param][0] for b in band_list]\n",
    "    err_ind = [ind_res_dict[b][param][1] for b in band_list]\n",
    "    ax.errorbar(wv_list, med_ind, yerr=err_ind, fmt = 'o', color = 'k', label = 'Ind.')\n",
    "    ax.set_xlabel('Obs. WV (micron)')\n",
    "    ax.set_title(param, fontsize = 14)\n",
    "axes[0].legend()"
   ]
  },
  {
   "cell_type": "code",
   "execution_count": 27,
   "metadata": {},
   "outputs": [
    {
     "data": {
      "text/plain": [
       "<matplotlib.legend.Legend at 0x1a8bbc3f470>"
      ]
     },
     "execution_count": 27,
     "metadata": {},
     "output_type": "execute_result"
    },
    {
     "data": {
      "image/png": "[encoded data removed]",
      "text/plain": [
       "<Figure size 1000x300 with 3 Axes>"
      ]
     },
     "metadata": {},
     "output_type": "display_data"
    }
   ],
   "source": [
    "fig, axes = plt.subplots(1,3, figsize = (10,3))\n",
    "\n",
    "#, 'r_eff_1', 'r_eff_2'\n",
    "\n",
    "for j,param in enumerate(['n','ellip_1', 'ellip_2']):\n",
    "    ax = axes[j]\n",
    "\n",
    "    med_ind = [ind2_res_dict[b][param][0] for b in band_list]\n",
    "    err_ind = [ind2_res_dict[b][param][1] for b in band_list]\n",
    "    ax.errorbar(wv_list, med_ind, yerr=err_ind, fmt = 'o', color = 'k', label = 'Ind.')\n",
    "    ax.set_xlabel('Obs. WV (micron)')\n",
    "    ax.set_title(param, fontsize = 14)\n",
    "axes[0].legend()"
   ]
  },
  {
   "cell_type": "code",
   "execution_count": 29,
   "metadata": {},
   "outputs": [
    {
     "data": {
      "text/plain": [
       "<matplotlib.legend.Legend at 0x1a8bc6c9ac0>"
      ]
     },
     "execution_count": 29,
     "metadata": {},
     "output_type": "execute_result"
    },
    {
     "data": {
      "image/png": "[encoded data removed]",
      "text/plain": [
       "<Figure size 1000x300 with 3 Axes>"
      ]
     },
     "metadata": {},
     "output_type": "display_data"
    }
   ],
   "source": [
    "fig, axes = plt.subplots(1,3, figsize = (10,3))\n",
    "\n",
    "for j,param in enumerate(['r_eff_1', 'r_eff_2', 'f_1']):\n",
    "    ax = axes[j]\n",
    "\n",
    "    med_ind = [ind2_res_dict[b][param][0] for b in band_list]\n",
    "    err_ind = [ind2_res_dict[b][param][1] for b in band_list]\n",
    "    ax.errorbar(wv_list, med_ind, yerr=err_ind, fmt = 'o', color = 'k', label = 'Ind.')\n",
    "    ax.set_xlabel('Obs. WV (micron)')\n",
    "    ax.set_title(param, fontsize = 14)\n",
    "axes[0].legend()"
   ]
  },
  {
   "cell_type": "markdown",
   "metadata": {},
   "source": [
    "##### Multiband fitting"
   ]
  },
  {
   "cell_type": "code",
   "execution_count": 30,
   "metadata": {},
   "outputs": [
    {
     "name": "stderr",
     "output_type": "stream",
     "text": [
      " 11%|█         | 2219/20000 [01:59<15:56, 18.60it/s, Round = 0,step_size = 5.0e-02 loss: -8.371e+04]\n",
      "  5%|▌         | 1066/20000 [00:56<16:41, 18.91it/s, Round = 1,step_size = 5.0e-03 loss: -8.371e+04]\n",
      "  6%|▌         | 1223/20000 [01:08<17:36, 17.77it/s, Round = 2,step_size = 5.0e-04 loss: -8.371e+04]\n",
      "arviz - WARNING - Shape validation failed: input_shape: (1, 1000), minimum_shape: (chains=2, draws=4)\n"
     ]
    },
    {
     "data": {
      "text/html": [
       "<div>\n",
       "<style scoped>\n",
       "    .dataframe tbody tr th:only-of-type {\n",
       "        vertical-align: middle;\n",
       "    }\n",
       "\n",
       "    .dataframe tbody tr th {\n",
       "        vertical-align: top;\n",
       "    }\n",
       "\n",
       "    .dataframe thead th {\n",
       "        text-align: right;\n",
       "    }\n",
       "</style>\n",
       "<table border=\"1\" class=\"dataframe\">\n",
       "  <thead>\n",
       "    <tr style=\"text-align: right;\">\n",
       "      <th></th>\n",
       "      <th>mean</th>\n",
       "      <th>sd</th>\n",
       "      <th>hdi_3%</th>\n",
       "      <th>hdi_97%</th>\n",
       "      <th>mcse_mean</th>\n",
       "      <th>mcse_sd</th>\n",
       "      <th>ess_bulk</th>\n",
       "      <th>ess_tail</th>\n",
       "      <th>r_hat</th>\n",
       "    </tr>\n",
       "  </thead>\n",
       "  <tbody>\n",
       "    <tr>\n",
       "      <th>r_eff_f090w</th>\n",
       "      <td>4.480</td>\n",
       "      <td>0.188</td>\n",
       "      <td>4.144</td>\n",
       "      <td>4.825</td>\n",
       "      <td>0.006</td>\n",
       "      <td>0.004</td>\n",
       "      <td>1066.0</td>\n",
       "      <td>804.0</td>\n",
       "      <td>NaN</td>\n",
       "    </tr>\n",
       "    <tr>\n",
       "      <th>n_f090w</th>\n",
       "      <td>0.845</td>\n",
       "      <td>0.047</td>\n",
       "      <td>0.763</td>\n",
       "      <td>0.931</td>\n",
       "      <td>0.001</td>\n",
       "      <td>0.001</td>\n",
       "      <td>1086.0</td>\n",
       "      <td>996.0</td>\n",
       "      <td>NaN</td>\n",
       "    </tr>\n",
       "    <tr>\n",
       "      <th>ellip_f090w</th>\n",
       "      <td>0.440</td>\n",
       "      <td>0.023</td>\n",
       "      <td>0.400</td>\n",
       "      <td>0.482</td>\n",
       "      <td>0.001</td>\n",
       "      <td>0.000</td>\n",
       "      <td>1073.0</td>\n",
       "      <td>878.0</td>\n",
       "      <td>NaN</td>\n",
       "    </tr>\n",
       "    <tr>\n",
       "      <th>r_eff_f115w</th>\n",
       "      <td>5.166</td>\n",
       "      <td>0.148</td>\n",
       "      <td>4.908</td>\n",
       "      <td>5.447</td>\n",
       "      <td>0.005</td>\n",
       "      <td>0.003</td>\n",
       "      <td>1049.0</td>\n",
       "      <td>905.0</td>\n",
       "      <td>NaN</td>\n",
       "    </tr>\n",
       "    <tr>\n",
       "      <th>n_f115w</th>\n",
       "      <td>0.888</td>\n",
       "      <td>0.046</td>\n",
       "      <td>0.809</td>\n",
       "      <td>0.975</td>\n",
       "      <td>0.001</td>\n",
       "      <td>0.001</td>\n",
       "      <td>1079.0</td>\n",
       "      <td>1071.0</td>\n",
       "      <td>NaN</td>\n",
       "    </tr>\n",
       "    <tr>\n",
       "      <th>ellip_f115w</th>\n",
       "      <td>0.447</td>\n",
       "      <td>0.018</td>\n",
       "      <td>0.415</td>\n",
       "      <td>0.481</td>\n",
       "      <td>0.001</td>\n",
       "      <td>0.000</td>\n",
       "      <td>1087.0</td>\n",
       "      <td>929.0</td>\n",
       "      <td>NaN</td>\n",
       "    </tr>\n",
       "    <tr>\n",
       "      <th>r_eff_f150w</th>\n",
       "      <td>6.039</td>\n",
       "      <td>0.115</td>\n",
       "      <td>5.846</td>\n",
       "      <td>6.269</td>\n",
       "      <td>0.004</td>\n",
       "      <td>0.003</td>\n",
       "      <td>1010.0</td>\n",
       "      <td>880.0</td>\n",
       "      <td>NaN</td>\n",
       "    </tr>\n",
       "    <tr>\n",
       "      <th>n_f150w</th>\n",
       "      <td>0.953</td>\n",
       "      <td>0.042</td>\n",
       "      <td>0.873</td>\n",
       "      <td>1.027</td>\n",
       "      <td>0.001</td>\n",
       "      <td>0.001</td>\n",
       "      <td>1049.0</td>\n",
       "      <td>1011.0</td>\n",
       "      <td>NaN</td>\n",
       "    </tr>\n",
       "    <tr>\n",
       "      <th>ellip_f150w</th>\n",
       "      <td>0.454</td>\n",
       "      <td>0.013</td>\n",
       "      <td>0.431</td>\n",
       "      <td>0.480</td>\n",
       "      <td>0.000</td>\n",
       "      <td>0.000</td>\n",
       "      <td>1098.0</td>\n",
       "      <td>916.0</td>\n",
       "      <td>NaN</td>\n",
       "    </tr>\n",
       "    <tr>\n",
       "      <th>r_eff_f182m</th>\n",
       "      <td>6.831</td>\n",
       "      <td>0.106</td>\n",
       "      <td>6.636</td>\n",
       "      <td>7.027</td>\n",
       "      <td>0.003</td>\n",
       "      <td>0.002</td>\n",
       "      <td>956.0</td>\n",
       "      <td>813.0</td>\n",
       "      <td>NaN</td>\n",
       "    </tr>\n",
       "    <tr>\n",
       "      <th>n_f182m</th>\n",
       "      <td>1.022</td>\n",
       "      <td>0.038</td>\n",
       "      <td>0.952</td>\n",
       "      <td>1.092</td>\n",
       "      <td>0.001</td>\n",
       "      <td>0.001</td>\n",
       "      <td>977.0</td>\n",
       "      <td>919.0</td>\n",
       "      <td>NaN</td>\n",
       "    </tr>\n",
       "    <tr>\n",
       "      <th>ellip_f182m</th>\n",
       "      <td>0.459</td>\n",
       "      <td>0.011</td>\n",
       "      <td>0.440</td>\n",
       "      <td>0.479</td>\n",
       "      <td>0.000</td>\n",
       "      <td>0.000</td>\n",
       "      <td>1051.0</td>\n",
       "      <td>984.0</td>\n",
       "      <td>NaN</td>\n",
       "    </tr>\n",
       "    <tr>\n",
       "      <th>r_eff_f200w</th>\n",
       "      <td>7.116</td>\n",
       "      <td>0.107</td>\n",
       "      <td>6.930</td>\n",
       "      <td>7.320</td>\n",
       "      <td>0.003</td>\n",
       "      <td>0.002</td>\n",
       "      <td>950.0</td>\n",
       "      <td>818.0</td>\n",
       "      <td>NaN</td>\n",
       "    </tr>\n",
       "    <tr>\n",
       "      <th>n_f200w</th>\n",
       "      <td>1.049</td>\n",
       "      <td>0.037</td>\n",
       "      <td>0.980</td>\n",
       "      <td>1.117</td>\n",
       "      <td>0.001</td>\n",
       "      <td>0.001</td>\n",
       "      <td>939.0</td>\n",
       "      <td>937.0</td>\n",
       "      <td>NaN</td>\n",
       "    </tr>\n",
       "    <tr>\n",
       "      <th>ellip_f200w</th>\n",
       "      <td>0.460</td>\n",
       "      <td>0.010</td>\n",
       "      <td>0.441</td>\n",
       "      <td>0.478</td>\n",
       "      <td>0.000</td>\n",
       "      <td>0.000</td>\n",
       "      <td>1021.0</td>\n",
       "      <td>931.0</td>\n",
       "      <td>NaN</td>\n",
       "    </tr>\n",
       "    <tr>\n",
       "      <th>r_eff_f210m</th>\n",
       "      <td>7.348</td>\n",
       "      <td>0.108</td>\n",
       "      <td>7.145</td>\n",
       "      <td>7.540</td>\n",
       "      <td>0.004</td>\n",
       "      <td>0.002</td>\n",
       "      <td>951.0</td>\n",
       "      <td>849.0</td>\n",
       "      <td>NaN</td>\n",
       "    </tr>\n",
       "    <tr>\n",
       "      <th>n_f210m</th>\n",
       "      <td>1.071</td>\n",
       "      <td>0.037</td>\n",
       "      <td>1.004</td>\n",
       "      <td>1.139</td>\n",
       "      <td>0.001</td>\n",
       "      <td>0.001</td>\n",
       "      <td>910.0</td>\n",
       "      <td>898.0</td>\n",
       "      <td>NaN</td>\n",
       "    </tr>\n",
       "    <tr>\n",
       "      <th>ellip_f210m</th>\n",
       "      <td>0.460</td>\n",
       "      <td>0.010</td>\n",
       "      <td>0.442</td>\n",
       "      <td>0.479</td>\n",
       "      <td>0.000</td>\n",
       "      <td>0.000</td>\n",
       "      <td>997.0</td>\n",
       "      <td>988.0</td>\n",
       "      <td>NaN</td>\n",
       "    </tr>\n",
       "    <tr>\n",
       "      <th>r_eff_f277w</th>\n",
       "      <td>8.500</td>\n",
       "      <td>0.114</td>\n",
       "      <td>8.285</td>\n",
       "      <td>8.695</td>\n",
       "      <td>0.004</td>\n",
       "      <td>0.003</td>\n",
       "      <td>977.0</td>\n",
       "      <td>845.0</td>\n",
       "      <td>NaN</td>\n",
       "    </tr>\n",
       "    <tr>\n",
       "      <th>n_f277w</th>\n",
       "      <td>1.180</td>\n",
       "      <td>0.039</td>\n",
       "      <td>1.112</td>\n",
       "      <td>1.254</td>\n",
       "      <td>0.001</td>\n",
       "      <td>0.001</td>\n",
       "      <td>856.0</td>\n",
       "      <td>881.0</td>\n",
       "      <td>NaN</td>\n",
       "    </tr>\n",
       "    <tr>\n",
       "      <th>ellip_f277w</th>\n",
       "      <td>0.459</td>\n",
       "      <td>0.010</td>\n",
       "      <td>0.443</td>\n",
       "      <td>0.478</td>\n",
       "      <td>0.000</td>\n",
       "      <td>0.000</td>\n",
       "      <td>942.0</td>\n",
       "      <td>983.0</td>\n",
       "      <td>NaN</td>\n",
       "    </tr>\n",
       "    <tr>\n",
       "      <th>r_eff_f356w</th>\n",
       "      <td>9.445</td>\n",
       "      <td>0.093</td>\n",
       "      <td>9.272</td>\n",
       "      <td>9.619</td>\n",
       "      <td>0.003</td>\n",
       "      <td>0.002</td>\n",
       "      <td>978.0</td>\n",
       "      <td>943.0</td>\n",
       "      <td>NaN</td>\n",
       "    </tr>\n",
       "    <tr>\n",
       "      <th>n_f356w</th>\n",
       "      <td>1.228</td>\n",
       "      <td>0.035</td>\n",
       "      <td>1.161</td>\n",
       "      <td>1.287</td>\n",
       "      <td>0.001</td>\n",
       "      <td>0.001</td>\n",
       "      <td>981.0</td>\n",
       "      <td>953.0</td>\n",
       "      <td>NaN</td>\n",
       "    </tr>\n",
       "    <tr>\n",
       "      <th>ellip_f356w</th>\n",
       "      <td>0.445</td>\n",
       "      <td>0.008</td>\n",
       "      <td>0.431</td>\n",
       "      <td>0.462</td>\n",
       "      <td>0.000</td>\n",
       "      <td>0.000</td>\n",
       "      <td>899.0</td>\n",
       "      <td>788.0</td>\n",
       "      <td>NaN</td>\n",
       "    </tr>\n",
       "    <tr>\n",
       "      <th>r_eff_f410m</th>\n",
       "      <td>9.829</td>\n",
       "      <td>0.096</td>\n",
       "      <td>9.658</td>\n",
       "      <td>10.009</td>\n",
       "      <td>0.003</td>\n",
       "      <td>0.002</td>\n",
       "      <td>954.0</td>\n",
       "      <td>807.0</td>\n",
       "      <td>NaN</td>\n",
       "    </tr>\n",
       "    <tr>\n",
       "      <th>n_f410m</th>\n",
       "      <td>1.199</td>\n",
       "      <td>0.032</td>\n",
       "      <td>1.142</td>\n",
       "      <td>1.258</td>\n",
       "      <td>0.001</td>\n",
       "      <td>0.001</td>\n",
       "      <td>1092.0</td>\n",
       "      <td>911.0</td>\n",
       "      <td>NaN</td>\n",
       "    </tr>\n",
       "    <tr>\n",
       "      <th>ellip_f410m</th>\n",
       "      <td>0.429</td>\n",
       "      <td>0.008</td>\n",
       "      <td>0.415</td>\n",
       "      <td>0.445</td>\n",
       "      <td>0.000</td>\n",
       "      <td>0.000</td>\n",
       "      <td>983.0</td>\n",
       "      <td>970.0</td>\n",
       "      <td>NaN</td>\n",
       "    </tr>\n",
       "    <tr>\n",
       "      <th>r_eff_f444w</th>\n",
       "      <td>9.956</td>\n",
       "      <td>0.126</td>\n",
       "      <td>9.729</td>\n",
       "      <td>10.200</td>\n",
       "      <td>0.004</td>\n",
       "      <td>0.003</td>\n",
       "      <td>945.0</td>\n",
       "      <td>897.0</td>\n",
       "      <td>NaN</td>\n",
       "    </tr>\n",
       "    <tr>\n",
       "      <th>n_f444w</th>\n",
       "      <td>1.163</td>\n",
       "      <td>0.040</td>\n",
       "      <td>1.092</td>\n",
       "      <td>1.241</td>\n",
       "      <td>0.001</td>\n",
       "      <td>0.001</td>\n",
       "      <td>1035.0</td>\n",
       "      <td>944.0</td>\n",
       "      <td>NaN</td>\n",
       "    </tr>\n",
       "    <tr>\n",
       "      <th>ellip_f444w</th>\n",
       "      <td>0.417</td>\n",
       "      <td>0.011</td>\n",
       "      <td>0.397</td>\n",
       "      <td>0.437</td>\n",
       "      <td>0.000</td>\n",
       "      <td>0.000</td>\n",
       "      <td>1044.0</td>\n",
       "      <td>970.0</td>\n",
       "      <td>NaN</td>\n",
       "    </tr>\n",
       "  </tbody>\n",
       "</table>\n",
       "</div>"
      ],
      "text/plain": [
       "              mean     sd  hdi_3%  hdi_97%  mcse_mean  mcse_sd  ess_bulk  \\\n",
       "r_eff_f090w  4.480  0.188   4.144    4.825      0.006    0.004    1066.0   \n",
       "n_f090w      0.845  0.047   0.763    0.931      0.001    0.001    1086.0   \n",
       "ellip_f090w  0.440  0.023   0.400    0.482      0.001    0.000    1073.0   \n",
       "r_eff_f115w  5.166  0.148   4.908    5.447      0.005    0.003    1049.0   \n",
       "n_f115w      0.888  0.046   0.809    0.975      0.001    0.001    1079.0   \n",
       "ellip_f115w  0.447  0.018   0.415    0.481      0.001    0.000    1087.0   \n",
       "r_eff_f150w  6.039  0.115   5.846    6.269      0.004    0.003    1010.0   \n",
       "n_f150w      0.953  0.042   0.873    1.027      0.001    0.001    1049.0   \n",
       "ellip_f150w  0.454  0.013   0.431    0.480      0.000    0.000    1098.0   \n",
       "r_eff_f182m  6.831  0.106   6.636    7.027      0.003    0.002     956.0   \n",
       "n_f182m      1.022  0.038   0.952    1.092      0.001    0.001     977.0   \n",
       "ellip_f182m  0.459  0.011   0.440    0.479      0.000    0.000    1051.0   \n",
       "r_eff_f200w  7.116  0.107   6.930    7.320      0.003    0.002     950.0   \n",
       "n_f200w      1.049  0.037   0.980    1.117      0.001    0.001     939.0   \n",
       "ellip_f200w  0.460  0.010   0.441    0.478      0.000    0.000    1021.0   \n",
       "r_eff_f210m  7.348  0.108   7.145    7.540      0.004    0.002     951.0   \n",
       "n_f210m      1.071  0.037   1.004    1.139      0.001    0.001     910.0   \n",
       "ellip_f210m  0.460  0.010   0.442    0.479      0.000    0.000     997.0   \n",
       "r_eff_f277w  8.500  0.114   8.285    8.695      0.004    0.003     977.0   \n",
       "n_f277w      1.180  0.039   1.112    1.254      0.001    0.001     856.0   \n",
       "ellip_f277w  0.459  0.010   0.443    0.478      0.000    0.000     942.0   \n",
       "r_eff_f356w  9.445  0.093   9.272    9.619      0.003    0.002     978.0   \n",
       "n_f356w      1.228  0.035   1.161    1.287      0.001    0.001     981.0   \n",
       "ellip_f356w  0.445  0.008   0.431    0.462      0.000    0.000     899.0   \n",
       "r_eff_f410m  9.829  0.096   9.658   10.009      0.003    0.002     954.0   \n",
       "n_f410m      1.199  0.032   1.142    1.258      0.001    0.001    1092.0   \n",
       "ellip_f410m  0.429  0.008   0.415    0.445      0.000    0.000     983.0   \n",
       "r_eff_f444w  9.956  0.126   9.729   10.200      0.004    0.003     945.0   \n",
       "n_f444w      1.163  0.040   1.092    1.241      0.001    0.001    1035.0   \n",
       "ellip_f444w  0.417  0.011   0.397    0.437      0.000    0.000    1044.0   \n",
       "\n",
       "             ess_tail  r_hat  \n",
       "r_eff_f090w     804.0    NaN  \n",
       "n_f090w         996.0    NaN  \n",
       "ellip_f090w     878.0    NaN  \n",
       "r_eff_f115w     905.0    NaN  \n",
       "n_f115w        1071.0    NaN  \n",
       "ellip_f115w     929.0    NaN  \n",
       "r_eff_f150w     880.0    NaN  \n",
       "n_f150w        1011.0    NaN  \n",
       "ellip_f150w     916.0    NaN  \n",
       "r_eff_f182m     813.0    NaN  \n",
       "n_f182m         919.0    NaN  \n",
       "ellip_f182m     984.0    NaN  \n",
       "r_eff_f200w     818.0    NaN  \n",
       "n_f200w         937.0    NaN  \n",
       "ellip_f200w     931.0    NaN  \n",
       "r_eff_f210m     849.0    NaN  \n",
       "n_f210m         898.0    NaN  \n",
       "ellip_f210m     988.0    NaN  \n",
       "r_eff_f277w     845.0    NaN  \n",
       "n_f277w         881.0    NaN  \n",
       "ellip_f277w     983.0    NaN  \n",
       "r_eff_f356w     943.0    NaN  \n",
       "n_f356w         953.0    NaN  \n",
       "ellip_f356w     788.0    NaN  \n",
       "r_eff_f410m     807.0    NaN  \n",
       "n_f410m         911.0    NaN  \n",
       "ellip_f410m     970.0    NaN  \n",
       "r_eff_f444w     897.0    NaN  \n",
       "n_f444w         944.0    NaN  \n",
       "ellip_f444w     970.0    NaN  "
      ]
     },
     "execution_count": 30,
     "metadata": {},
     "output_type": "execute_result"
    }
   ],
   "source": [
    "wv_to_save = np.linspace(min(wv_list),max(wv_list), num = 50)\n",
    "\n",
    "# single component\n",
    "MultiFitter = FitMultiBandPoly(fitter_list=[fitter_dict[b] for b in band_list],\n",
    "                               wavelengths=wv_list,\n",
    "                               band_names= band_list,\n",
    "                               linked_params=['n','ellip','r_eff'],\n",
    "                               const_params=['xc','yc','theta'],\n",
    "                               wv_to_save= wv_to_save,\n",
    "                               poly_order = 2)\n",
    "rkey,_ = jax.random.split(rkey,2)\n",
    "multires = MultiFitter.estimate_posterior(method = 'svi-flow', rkey = rkey)\n",
    "\n",
    "link_params = [f'{param}_{b}' for b in band_list for param in ['r_eff','n','ellip']] # Look at posteriors of \"linked\" parameters\n",
    "multi_res_dict = multires.retrieve_med_std()\n",
    "az.summary(multires.idata, var_names=link_params)\n",
    "\n"
   ]
  },
  {
   "cell_type": "code",
   "execution_count": 31,
   "metadata": {},
   "outputs": [
    {
     "name": "stderr",
     "output_type": "stream",
     "text": [
      "<>:48: SyntaxWarning: invalid escape sequence '\\m'\n",
      "<>:48: SyntaxWarning: invalid escape sequence '\\m'\n",
      "C:\\Users\\kings\\AppData\\Local\\Temp\\ipykernel_5312\\3511838424.py:48: SyntaxWarning: invalid escape sequence '\\m'\n",
      "  plt.savefig(path_wdir + '\\multi_1comp.pdf', bbox_inches='tight')\n"
     ]
    },
    {
     "data": {
      "image/png": "[encoded data removed]",
      "text/plain": [
       "<Figure size 1100x270 with 3 Axes>"
      ]
     },
     "metadata": {},
     "output_type": "display_data"
    }
   ],
   "source": [
    "# plot results \n",
    "\n",
    "fig, axes = plt.subplots(nrows=1, ncols=3, figsize=(11, 2.7))\n",
    "\n",
    "titles = [\"Sersic index n\", \"ellipticity\", r\"$R_{\\rm eff}$ [kpc]\"]\n",
    "\n",
    "\n",
    "for j, param in enumerate(['n','ellip','r_eff']):\n",
    "    ax = axes[j]\n",
    "\n",
    "    med_ind = np.array([ind_res_dict[b][param][0] for b in band_list])\n",
    "    err_ind = np.array([ind_res_dict[b][param][1] for b in band_list])\n",
    "\n",
    "    med_multi = np.array([multi_res_dict[f'{param}_{b}'][0] for b in band_list])\n",
    "    err_multi = np.array([multi_res_dict[f'{param}_{b}'][1] for b in band_list])\n",
    "\n",
    "    if (param == 'r_eff'):\n",
    "        conversion = kpc_per_arcsec*pix_scale\n",
    "    else:\n",
    "        conversion = 1.0\n",
    "    \n",
    "    param_smooth = multires.idata.posterior[f'{param}_at_wv'].data.squeeze()\n",
    "    ax.plot(wv_to_save, conversion*param_smooth[:20].T, '-', color='C0', alpha = 0.1)\n",
    "    ax.errorbar(wv_list, conversion*med_ind, yerr=conversion*err_ind, fmt = 'o', color = 'k', label = 'individual')\n",
    "    ax.errorbar(wv_list+0.01, conversion*med_multi, yerr=conversion*err_multi, fmt = 'o', color = 'royalblue', markeredgecolor='gray', label = 'joint')\n",
    "    # ax.plot(1/wv_to_save, conversion*param_smooth[:20].T, '-', color='crimson', alpha = 0.1)\n",
    "    # ax.errorbar(1/wv_list, conversion*med_ind, yerr=conversion*err_ind, fmt = 'o', color = 'k', label = 'individual')\n",
    "    # ax.errorbar(1/wv_list+0.01, conversion*med_multi, yerr=conversion*err_multi, fmt = 'o', color = 'crimson', markeredgecolor='gray', label = 'joint')\n",
    "    # ax.set_title(param, fontsize = 14)\n",
    "    ax.set_xlabel(r'$\\lambda_{\\rm obs}$ [$\\mu$m]')\n",
    "    # ax.set_xlim([1, 5])\n",
    "    ax.set_ylabel(titles[j])\n",
    "\n",
    "axes[0].set_ylim([0.5, 1.5])\n",
    "axes[1].set_ylim([0.3, 0.6])\n",
    "axes[2].set_ylim([0.5, 2])\n",
    "axes[0].legend(frameon=False)\n",
    "\n",
    "axes[0].tick_params(width=1.5, length=7)\n",
    "plt.setp(axes[0].spines.values(), lw=1.5)\n",
    "axes[1].tick_params(width=1.5, length=7)\n",
    "plt.setp(axes[1].spines.values(), lw=1.5)\n",
    "axes[2].tick_params(width=1.5, length=7)\n",
    "plt.setp(axes[2].spines.values(), lw=1.5)\n",
    "# fig.suptitle('Multi-band fitting, single component', fontsize=16, y=1.05)\n",
    "\n",
    "plt.subplots_adjust(wspace=0.4, hspace=0.05)\n",
    "plt.savefig(path_wdir + '\\multi_1comp.pdf', bbox_inches='tight')\n",
    "plt.show()\n"
   ]
  },
  {
   "cell_type": "markdown",
   "metadata": {},
   "source": [
    "Here, prior is 0.5 > n > 4.5, which seems fine as none touch those bounds."
   ]
  },
  {
   "cell_type": "code",
   "execution_count": 32,
   "metadata": {},
   "outputs": [],
   "source": [
    "# extract best fit and save\n",
    "\n",
    "ind_fit = {}\n",
    "joint_fit = {}\n",
    "ind_err_fit = {}\n",
    "joint_err_fit = {}\n",
    "\n",
    "for j,param in enumerate(['flux', 'n', 'ellip', 'r_eff']):\n",
    "\n",
    "    ind_fit[param] = [ind_res_dict[b][param][0] for b in band_list]\n",
    "    ind_err_fit[param] = [ind_res_dict[b][param][1] for b in band_list]\n",
    "\n",
    "    joint_fit[param] = [multi_res_dict[f'{param}_{b}'][0] for b in band_list]\n",
    "    joint_err_fit[param] = [multi_res_dict[f'{param}_{b}'][1] for b in band_list]\n"
   ]
  },
  {
   "cell_type": "markdown",
   "metadata": {},
   "source": [
    "TO RENDER, AND PLOT RESIDUALS, YOU NEED A DICTIONARY OF THE PARAMETERS (MEAN).\n",
    "CURRENTLY, MULTIBAND RESULTS ARE IN \"MULTIRES\""
   ]
  },
  {
   "cell_type": "code",
   "execution_count": 13,
   "metadata": {},
   "outputs": [],
   "source": [
    "# print(\"Keys in multi_res_dict:\", multi_res_dict.keys())\n"
   ]
  },
  {
   "cell_type": "code",
   "execution_count": 14,
   "metadata": {},
   "outputs": [],
   "source": [
    "# multi_res_dict['n_poly_coeff']\n",
    "# multi_res_dict['n_f090w']"
   ]
  },
  {
   "cell_type": "code",
   "execution_count": 15,
   "metadata": {},
   "outputs": [],
   "source": [
    "# from pysersic.rendering import HybridRenderer\n",
    "\n",
    "# def render_multiband_fits(MultiFitter, multires, band_list):\n",
    "#     fig, axes = plt.subplots(len(band_list), 1, figsize=(12, 6 * len(band_list)))\n",
    "    \n",
    "#     for i, band in enumerate(band_list):\n",
    "#         ax = axes[i]\n",
    "        \n",
    "#         # Extract the model parameters for the current band\n",
    "#         params = multi_res_dict\n",
    "#         model_params = {\n",
    "#             'xc': params['xc'][0],\n",
    "#             'yc': params['yc'][0],\n",
    "#             'r_eff': params[f'r_eff_{band}'][0],\n",
    "#             'n': params['n'][0],\n",
    "#             'ellip': params['ellip'][0],\n",
    "#             'flux': params[f'flux_{band}'][0],\n",
    "#             'theta': params['theta'][0]\n",
    "#         }\n",
    "        \n",
    "#         # Render the model for the current band\n",
    "#         im = MultiFitter.fitter_list[i].data\n",
    "#         psf = MultiFitter.fitter_list[i].psf\n",
    "#         mask = MultiFitter.fitter_list[i].mask\n",
    "#         renderer = HybridRenderer(im.shape, jnp.array(psf.astype(np.float32)))\n",
    "#         bf_model = renderer.render_sersic(**model_params)\n",
    "        \n",
    "#         # Plot the residuals\n",
    "#         fig, ax = plot_residual(im, bf_model, mask=mask, vmin=-1, vmax=1, ax=ax)\n",
    "#         ax.set_title(f'Multiband Fit Residuals - {band}')\n",
    "    \n",
    "#     plt.tight_layout()\n",
    "#     plt.show()\n",
    "\n",
    "# # Call the function to render and plot the fits\n",
    "# render_multiband_fits(MultiFitter, multires, band_list)"
   ]
  },
  {
   "cell_type": "code",
   "execution_count": 16,
   "metadata": {},
   "outputs": [
    {
     "name": "stdout",
     "output_type": "stream",
     "text": [
      "[0.43 0.43 0.49 0.5  0.49 0.5  0.42 0.43 0.44 0.39] [0.05 0.03 0.03 0.03 0.02 0.02 0.02 0.02 0.01 0.01]\n",
      "[0.44 0.45 0.45 0.46 0.46 0.46 0.46 0.44 0.43 0.42] [0.02 0.02 0.01 0.01 0.01 0.01 0.01 0.01 0.01 0.01]\n"
     ]
    }
   ],
   "source": [
    "# ?\n",
    "param = 'ellip'\n",
    "conv = 1.0 #kpc_per_arcsec*pix_scale\n",
    "print(conv*np.round(ind_fit[param],2), conv*np.round(ind_err_fit[param],2))\n",
    "print(conv*np.round(joint_fit[param],2), conv*np.round(joint_err_fit[param],2))\n"
   ]
  },
  {
   "cell_type": "markdown",
   "metadata": {},
   "source": [
    "### Double Component"
   ]
  },
  {
   "cell_type": "code",
   "execution_count": null,
   "metadata": {},
   "outputs": [
    {
     "name": "stderr",
     "output_type": "stream",
     "text": [
      " 12%|█▏        | 2315/20000 [02:24<18:25, 16.00it/s, Round = 0,step_size = 5.0e-02 loss: -8.370e+04]\n",
      "  4%|▍         | 846/20000 [00:55<20:56, 15.25it/s, Round = 1,step_size = 5.0e-03 loss: -8.370e+04]\n",
      "  6%|▌         | 1176/20000 [01:26<23:08, 13.55it/s, Round = 2,step_size = 5.0e-04 loss: -8.370e+04] \n",
      "arviz - WARNING - Shape validation failed: input_shape: (1, 1000), minimum_shape: (chains=2, draws=4)\n"
     ]
    },
    {
     "data": {
      "text/html": [
       "<div>\n",
       "<style scoped>\n",
       "    .dataframe tbody tr th:only-of-type {\n",
       "        vertical-align: middle;\n",
       "    }\n",
       "\n",
       "    .dataframe tbody tr th {\n",
       "        vertical-align: top;\n",
       "    }\n",
       "\n",
       "    .dataframe thead th {\n",
       "        text-align: right;\n",
       "    }\n",
       "</style>\n",
       "<table border=\"1\" class=\"dataframe\">\n",
       "  <thead>\n",
       "    <tr style=\"text-align: right;\">\n",
       "      <th></th>\n",
       "      <th>mean</th>\n",
       "      <th>sd</th>\n",
       "      <th>hdi_3%</th>\n",
       "      <th>hdi_97%</th>\n",
       "      <th>mcse_mean</th>\n",
       "      <th>mcse_sd</th>\n",
       "      <th>ess_bulk</th>\n",
       "      <th>ess_tail</th>\n",
       "      <th>r_hat</th>\n",
       "    </tr>\n",
       "  </thead>\n",
       "  <tbody>\n",
       "    <tr>\n",
       "      <th>f_1_f090w</th>\n",
       "      <td>1.502</td>\n",
       "      <td>0.062</td>\n",
       "      <td>1.388</td>\n",
       "      <td>1.619</td>\n",
       "      <td>0.002</td>\n",
       "      <td>0.001</td>\n",
       "      <td>1113.0</td>\n",
       "      <td>778.0</td>\n",
       "      <td>NaN</td>\n",
       "    </tr>\n",
       "    <tr>\n",
       "      <th>f_1_f115w</th>\n",
       "      <td>1.366</td>\n",
       "      <td>0.053</td>\n",
       "      <td>1.267</td>\n",
       "      <td>1.469</td>\n",
       "      <td>0.002</td>\n",
       "      <td>0.001</td>\n",
       "      <td>1117.0</td>\n",
       "      <td>865.0</td>\n",
       "      <td>NaN</td>\n",
       "    </tr>\n",
       "    <tr>\n",
       "      <th>f_1_f150w</th>\n",
       "      <td>1.190</td>\n",
       "      <td>0.044</td>\n",
       "      <td>1.115</td>\n",
       "      <td>1.280</td>\n",
       "      <td>0.001</td>\n",
       "      <td>0.001</td>\n",
       "      <td>1101.0</td>\n",
       "      <td>843.0</td>\n",
       "      <td>NaN</td>\n",
       "    </tr>\n",
       "    <tr>\n",
       "      <th>f_1_f182m</th>\n",
       "      <td>1.029</td>\n",
       "      <td>0.037</td>\n",
       "      <td>0.961</td>\n",
       "      <td>1.100</td>\n",
       "      <td>0.001</td>\n",
       "      <td>0.001</td>\n",
       "      <td>1032.0</td>\n",
       "      <td>1026.0</td>\n",
       "      <td>NaN</td>\n",
       "    </tr>\n",
       "    <tr>\n",
       "      <th>f_1_f200w</th>\n",
       "      <td>0.970</td>\n",
       "      <td>0.036</td>\n",
       "      <td>0.905</td>\n",
       "      <td>1.039</td>\n",
       "      <td>0.001</td>\n",
       "      <td>0.001</td>\n",
       "      <td>1000.0</td>\n",
       "      <td>1070.0</td>\n",
       "      <td>NaN</td>\n",
       "    </tr>\n",
       "    <tr>\n",
       "      <th>f_1_f210m</th>\n",
       "      <td>0.922</td>\n",
       "      <td>0.035</td>\n",
       "      <td>0.860</td>\n",
       "      <td>0.990</td>\n",
       "      <td>0.001</td>\n",
       "      <td>0.001</td>\n",
       "      <td>977.0</td>\n",
       "      <td>1070.0</td>\n",
       "      <td>NaN</td>\n",
       "    </tr>\n",
       "    <tr>\n",
       "      <th>f_1_f277w</th>\n",
       "      <td>0.677</td>\n",
       "      <td>0.033</td>\n",
       "      <td>0.616</td>\n",
       "      <td>0.737</td>\n",
       "      <td>0.001</td>\n",
       "      <td>0.001</td>\n",
       "      <td>891.0</td>\n",
       "      <td>847.0</td>\n",
       "      <td>NaN</td>\n",
       "    </tr>\n",
       "    <tr>\n",
       "      <th>f_1_f356w</th>\n",
       "      <td>0.462</td>\n",
       "      <td>0.033</td>\n",
       "      <td>0.404</td>\n",
       "      <td>0.523</td>\n",
       "      <td>0.001</td>\n",
       "      <td>0.001</td>\n",
       "      <td>922.0</td>\n",
       "      <td>869.0</td>\n",
       "      <td>NaN</td>\n",
       "    </tr>\n",
       "    <tr>\n",
       "      <th>f_1_f410m</th>\n",
       "      <td>0.361</td>\n",
       "      <td>0.035</td>\n",
       "      <td>0.300</td>\n",
       "      <td>0.424</td>\n",
       "      <td>0.001</td>\n",
       "      <td>0.001</td>\n",
       "      <td>982.0</td>\n",
       "      <td>952.0</td>\n",
       "      <td>NaN</td>\n",
       "    </tr>\n",
       "    <tr>\n",
       "      <th>f_1_f444w</th>\n",
       "      <td>0.320</td>\n",
       "      <td>0.038</td>\n",
       "      <td>0.255</td>\n",
       "      <td>0.392</td>\n",
       "      <td>0.001</td>\n",
       "      <td>0.001</td>\n",
       "      <td>1035.0</td>\n",
       "      <td>942.0</td>\n",
       "      <td>NaN</td>\n",
       "    </tr>\n",
       "  </tbody>\n",
       "</table>\n",
       "</div>"
      ],
      "text/plain": [
       "            mean     sd  hdi_3%  hdi_97%  mcse_mean  mcse_sd  ess_bulk  \\\n",
       "f_1_f090w  1.502  0.062   1.388    1.619      0.002    0.001    1113.0   \n",
       "f_1_f115w  1.366  0.053   1.267    1.469      0.002    0.001    1117.0   \n",
       "f_1_f150w  1.190  0.044   1.115    1.280      0.001    0.001    1101.0   \n",
       "f_1_f182m  1.029  0.037   0.961    1.100      0.001    0.001    1032.0   \n",
       "f_1_f200w  0.970  0.036   0.905    1.039      0.001    0.001    1000.0   \n",
       "f_1_f210m  0.922  0.035   0.860    0.990      0.001    0.001     977.0   \n",
       "f_1_f277w  0.677  0.033   0.616    0.737      0.001    0.001     891.0   \n",
       "f_1_f356w  0.462  0.033   0.404    0.523      0.001    0.001     922.0   \n",
       "f_1_f410m  0.361  0.035   0.300    0.424      0.001    0.001     982.0   \n",
       "f_1_f444w  0.320  0.038   0.255    0.392      0.001    0.001    1035.0   \n",
       "\n",
       "           ess_tail  r_hat  \n",
       "f_1_f090w     778.0    NaN  \n",
       "f_1_f115w     865.0    NaN  \n",
       "f_1_f150w     843.0    NaN  \n",
       "f_1_f182m    1026.0    NaN  \n",
       "f_1_f200w    1070.0    NaN  \n",
       "f_1_f210m    1070.0    NaN  \n",
       "f_1_f277w     847.0    NaN  \n",
       "f_1_f356w     869.0    NaN  \n",
       "f_1_f410m     952.0    NaN  \n",
       "f_1_f444w     942.0    NaN  "
      ]
     },
     "execution_count": 33,
     "metadata": {},
     "output_type": "execute_result"
    }
   ],
   "source": [
    "wv_to_save = np.linspace(min(wv_list),max(wv_list), num = 50)\n",
    "\n",
    "# double component\n",
    "MultiFitter = FitMultiBandPoly(fitter_list=[fitter2_dict[b] for b in band_list],\n",
    "                               wavelengths=wv_list,\n",
    "                               band_names= band_list,\n",
    "                               linked_params=['f_1'],\n",
    "                               const_params=['xc','yc','theta','r_eff_1','ellip_1','r_eff_2','ellip_2'],\n",
    "                               wv_to_save= wv_to_save,\n",
    "                               poly_order = 2)\n",
    "rkey,_ = jax.random.split(rkey,2)\n",
    "multires = MultiFitter.estimate_posterior(method = 'svi-flow', rkey = rkey)\n",
    "\n",
    "link_params = [f'{param}_{b}' for b in band_list for param in ['f_1']] # Look at posteriors of \"linked\" parameters\n",
    "multi2_res_dict = multires.retrieve_med_std()\n",
    "az.summary(multires.idata, var_names=link_params)\n"
   ]
  },
  {
   "cell_type": "code",
   "execution_count": 34,
   "metadata": {},
   "outputs": [
    {
     "name": "stderr",
     "output_type": "stream",
     "text": [
      "arviz - WARNING - Shape validation failed: input_shape: (1, 1000), minimum_shape: (chains=2, draws=4)\n"
     ]
    },
    {
     "data": {
      "text/html": [
       "<div>\n",
       "<style scoped>\n",
       "    .dataframe tbody tr th:only-of-type {\n",
       "        vertical-align: middle;\n",
       "    }\n",
       "\n",
       "    .dataframe tbody tr th {\n",
       "        vertical-align: top;\n",
       "    }\n",
       "\n",
       "    .dataframe thead th {\n",
       "        text-align: right;\n",
       "    }\n",
       "</style>\n",
       "<table border=\"1\" class=\"dataframe\">\n",
       "  <thead>\n",
       "    <tr style=\"text-align: right;\">\n",
       "      <th></th>\n",
       "      <th>mean</th>\n",
       "      <th>sd</th>\n",
       "      <th>hdi_3%</th>\n",
       "      <th>hdi_97%</th>\n",
       "      <th>mcse_mean</th>\n",
       "      <th>mcse_sd</th>\n",
       "      <th>ess_bulk</th>\n",
       "      <th>ess_tail</th>\n",
       "      <th>r_hat</th>\n",
       "    </tr>\n",
       "  </thead>\n",
       "  <tbody>\n",
       "    <tr>\n",
       "      <th>n</th>\n",
       "      <td>1.121</td>\n",
       "      <td>0.046</td>\n",
       "      <td>1.044</td>\n",
       "      <td>1.206</td>\n",
       "      <td>0.001</td>\n",
       "      <td>0.001</td>\n",
       "      <td>940.0</td>\n",
       "      <td>937.0</td>\n",
       "      <td>NaN</td>\n",
       "    </tr>\n",
       "    <tr>\n",
       "      <th>r_eff_1</th>\n",
       "      <td>7.064</td>\n",
       "      <td>0.155</td>\n",
       "      <td>6.749</td>\n",
       "      <td>7.318</td>\n",
       "      <td>0.005</td>\n",
       "      <td>0.004</td>\n",
       "      <td>855.0</td>\n",
       "      <td>901.0</td>\n",
       "      <td>NaN</td>\n",
       "    </tr>\n",
       "    <tr>\n",
       "      <th>r_eff_2</th>\n",
       "      <td>11.656</td>\n",
       "      <td>0.228</td>\n",
       "      <td>11.238</td>\n",
       "      <td>12.074</td>\n",
       "      <td>0.007</td>\n",
       "      <td>0.005</td>\n",
       "      <td>1033.0</td>\n",
       "      <td>994.0</td>\n",
       "      <td>NaN</td>\n",
       "    </tr>\n",
       "  </tbody>\n",
       "</table>\n",
       "</div>"
      ],
      "text/plain": [
       "           mean     sd  hdi_3%  hdi_97%  mcse_mean  mcse_sd  ess_bulk  \\\n",
       "n         1.121  0.046   1.044    1.206      0.001    0.001     940.0   \n",
       "r_eff_1   7.064  0.155   6.749    7.318      0.005    0.004     855.0   \n",
       "r_eff_2  11.656  0.228  11.238   12.074      0.007    0.005    1033.0   \n",
       "\n",
       "         ess_tail  r_hat  \n",
       "n           937.0    NaN  \n",
       "r_eff_1     901.0    NaN  \n",
       "r_eff_2     994.0    NaN  "
      ]
     },
     "execution_count": 34,
     "metadata": {},
     "output_type": "execute_result"
    }
   ],
   "source": [
    "az.summary(multires.idata, var_names=['n', 'r_eff_1','r_eff_2'])\n"
   ]
  },
  {
   "cell_type": "code",
   "execution_count": 35,
   "metadata": {},
   "outputs": [],
   "source": [
    "# print(\"1st Comp (bulge) Re:\", 4.899*kpc_per_arcsec*pix_scale, \"+/-\", 0.082*kpc_per_arcsec*pix_scale)\n",
    "# print(\"2nd Comp (disc) Re:\", 10.421*kpc_per_arcsec*pix_scale, \"+/-\", 0.117*kpc_per_arcsec*pix_scale)"
   ]
  },
  {
   "cell_type": "code",
   "execution_count": 36,
   "metadata": {},
   "outputs": [
    {
     "data": {
      "image/png": "[encoded data removed]",
      "text/plain": [
       "<Figure size 300x270 with 1 Axes>"
      ]
     },
     "metadata": {},
     "output_type": "display_data"
    }
   ],
   "source": [
    "titles = [\"B/T\"]\n",
    "\n",
    "fig, axes = plt.subplots(nrows=1, ncols=1, figsize=(3, 2.7))\n",
    "\n",
    "for j, param in enumerate(['f_1']):\n",
    "    ax = axes\n",
    "\n",
    "    med_ind = np.array([ind2_res_dict[b][param][0] for b in band_list])\n",
    "    err_ind = np.array([ind2_res_dict[b][param][1] for b in band_list])\n",
    "\n",
    "    med_multi = np.array([multi2_res_dict[f'{param}_{b}'][0] for b in band_list])\n",
    "    err_multi = np.array([multi2_res_dict[f'{param}_{b}'][1] for b in band_list])\n",
    "\n",
    "    if (param == 'r_eff_1') | (param == 'r_eff_2'):\n",
    "        conversion = kpc_per_arcsec*pix_scale\n",
    "    else:\n",
    "        conversion = 1.0\n",
    "    \n",
    "    param_smooth = multires.idata.posterior[f'{param}_at_wv'].data.squeeze()\n",
    "    ax.plot(wv_to_save, conversion*param_smooth[:20].T, '-', color='C0', alpha = 0.1)\n",
    "    ax.errorbar(wv_list, conversion*med_ind, yerr=conversion*err_ind, fmt = 'o', color = 'k', label = 'individual')\n",
    "    ax.errorbar(wv_list+0.01, conversion*med_multi, yerr=conversion*err_multi, fmt = 'o', color = 'royalblue', markeredgecolor='gray', label = 'joint')\n",
    "    # ax.set_title(param, fontsize = 14)\n",
    "    ax.set_xlabel(r'$\\lambda_{\\rm obs}$ [$\\mu$m]')\n",
    "    # ax.set_xlim([1, 5])\n",
    "    ax.set_ylabel(titles[j])\n",
    "\n",
    "# axes.set_ylim([0.0, 1])\n",
    "axes.legend(frameon=False)\n",
    "\n",
    "axes.tick_params(width=1.5, length=7)\n",
    "plt.setp(axes.spines.values(), lw=1.5)\n",
    "# plt.title('Multi-band fitting, double component', pad = 15)\n",
    "\n",
    "# plt.subplots_adjust(wspace=0.8, hspace=0.07)\n",
    "# plt.savefig(path_wdir + '\\multi_2comp.pdf', bbox_inches='tight')\n",
    "plt.show()\n"
   ]
  },
  {
   "cell_type": "code",
   "execution_count": 21,
   "metadata": {},
   "outputs": [],
   "source": [
    "# extract best fit and save\n",
    "\n",
    "ind2_fit = {}\n",
    "joint2_fit = {}\n",
    "ind2_err_fit = {}\n",
    "joint2_err_fit = {}\n",
    "\n",
    "for j,param in enumerate(['f_1', 'flux']):\n",
    "\n",
    "    ind2_fit[param] = [ind2_res_dict[b][param][0] for b in band_list]\n",
    "    ind2_err_fit[param] = [ind2_res_dict[b][param][1] for b in band_list]\n",
    "\n",
    "    joint2_fit[param] = [multi2_res_dict[f'{param}_{b}'][0] for b in band_list]\n",
    "    joint2_err_fit[param] = [multi2_res_dict[f'{param}_{b}'][1] for b in band_list]\n",
    "\n"
   ]
  }
 ],
 "metadata": {
  "kernelspec": {
   "display_name": "pysersic",
   "language": "python",
   "name": "python3"
  },
  "language_info": {
   "codemirror_mode": {
    "name": "ipython",
    "version": 3
   },
   "file_extension": ".py",
   "mimetype": "text/x-python",
   "name": "python",
   "nbconvert_exporter": "python",
   "pygments_lexer": "ipython3",
   "version": "3.12.3"
  }
 },
 "nbformat": 4,
 "nbformat_minor": 2
}
